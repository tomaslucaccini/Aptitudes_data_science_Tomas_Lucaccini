{
 "cells": [
  {
   "cell_type": "code",
   "execution_count": 1,
   "metadata": {},
   "outputs": [],
   "source": [
    "from bs4 import BeautifulSoup"
   ]
  },
  {
   "cell_type": "code",
   "execution_count": 2,
   "metadata": {},
   "outputs": [],
   "source": [
    "import pandas as pd\n",
    "import numpy as np"
   ]
  },
  {
   "cell_type": "code",
   "execution_count": 13,
   "metadata": {},
   "outputs": [],
   "source": [
    "import seaborn as sns\n",
    "import matplotlib.pyplot as plt"
   ]
  },
  {
   "cell_type": "code",
   "execution_count": 14,
   "metadata": {},
   "outputs": [
    {
     "data": {
      "text/plain": [
       "<Figure size 1008x720 with 0 Axes>"
      ]
     },
     "metadata": {},
     "output_type": "display_data"
    }
   ],
   "source": [
    "# Matplotlib params\n",
    "\n",
    "from matplotlib import rcParams\n",
    "rcParams['figure.figsize'] = 14, 10\n",
    "sns.set_context('paper', font_scale=1.5, rc={\"lines.linewidth\": 2.5})\n",
    "sns.despine()\n",
    "sns.set_style(\"dark\")"
   ]
  },
  {
   "cell_type": "markdown",
   "metadata": {},
   "source": [
    "### Loading dataset series from 1994 to 2021"
   ]
  },
  {
   "cell_type": "code",
   "execution_count": 25,
   "metadata": {},
   "outputs": [],
   "source": [
    "df = pd.read_csv('1994-2021 - agrupacion por dia.csv', sep=';')"
   ]
  },
  {
   "cell_type": "code",
   "execution_count": 26,
   "metadata": {
    "scrolled": true
   },
   "outputs": [
    {
     "data": {
      "text/html": [
       "<div>\n",
       "<style scoped>\n",
       "    .dataframe tbody tr th:only-of-type {\n",
       "        vertical-align: middle;\n",
       "    }\n",
       "\n",
       "    .dataframe tbody tr th {\n",
       "        vertical-align: top;\n",
       "    }\n",
       "\n",
       "    .dataframe thead th {\n",
       "        text-align: right;\n",
       "    }\n",
       "</style>\n",
       "<table border=\"1\" class=\"dataframe\">\n",
       "  <thead>\n",
       "    <tr style=\"text-align: right;\">\n",
       "      <th></th>\n",
       "      <th>FECHA</th>\n",
       "      <th>INDICATIVO</th>\n",
       "      <th>NOMBRE</th>\n",
       "      <th>PROVINCIA</th>\n",
       "      <th>ALTITUD</th>\n",
       "      <th>TMEDIA</th>\n",
       "      <th>PRECIPITACION</th>\n",
       "      <th>TMIN</th>\n",
       "      <th>HORATMIN</th>\n",
       "      <th>TMAX</th>\n",
       "      <th>HORATMAX</th>\n",
       "      <th>DIR</th>\n",
       "      <th>VELMEDIA</th>\n",
       "      <th>RACHA</th>\n",
       "      <th>HORARACHA</th>\n",
       "      <th>SOL</th>\n",
       "      <th>PRESMAX</th>\n",
       "      <th>HORAPRESMAX</th>\n",
       "      <th>PRESMIN</th>\n",
       "      <th>HORAPRESMIN</th>\n",
       "    </tr>\n",
       "  </thead>\n",
       "  <tbody>\n",
       "    <tr>\n",
       "      <td>0</td>\n",
       "      <td>1994-04-20</td>\n",
       "      <td>0201D</td>\n",
       "      <td>BARCELONA</td>\n",
       "      <td>BARCELONA</td>\n",
       "      <td>6</td>\n",
       "      <td>NaN</td>\n",
       "      <td>NaN</td>\n",
       "      <td>NaN</td>\n",
       "      <td>NaN</td>\n",
       "      <td>NaN</td>\n",
       "      <td>NaN</td>\n",
       "      <td>36.0</td>\n",
       "      <td>NaN</td>\n",
       "      <td>35.3</td>\n",
       "      <td>70:40</td>\n",
       "      <td>NaN</td>\n",
       "      <td>NaN</td>\n",
       "      <td>NaN</td>\n",
       "      <td>NaN</td>\n",
       "      <td>NaN</td>\n",
       "    </tr>\n",
       "    <tr>\n",
       "      <td>1</td>\n",
       "      <td>1994-04-21</td>\n",
       "      <td>0201D</td>\n",
       "      <td>BARCELONA</td>\n",
       "      <td>BARCELONA</td>\n",
       "      <td>6</td>\n",
       "      <td>12.4</td>\n",
       "      <td>0.0</td>\n",
       "      <td>10.0</td>\n",
       "      <td>05:20</td>\n",
       "      <td>14.8</td>\n",
       "      <td>Varias</td>\n",
       "      <td>17.0</td>\n",
       "      <td>3.9</td>\n",
       "      <td>7.5</td>\n",
       "      <td>17:40</td>\n",
       "      <td>NaN</td>\n",
       "      <td>1010.4</td>\n",
       "      <td>Varias</td>\n",
       "      <td>1002.7</td>\n",
       "      <td>02</td>\n",
       "    </tr>\n",
       "    <tr>\n",
       "      <td>2</td>\n",
       "      <td>1994-04-22</td>\n",
       "      <td>0201D</td>\n",
       "      <td>BARCELONA</td>\n",
       "      <td>BARCELONA</td>\n",
       "      <td>6</td>\n",
       "      <td>13.6</td>\n",
       "      <td>0.0</td>\n",
       "      <td>10.5</td>\n",
       "      <td>05:10</td>\n",
       "      <td>16.6</td>\n",
       "      <td>13:30</td>\n",
       "      <td>18.0</td>\n",
       "      <td>3.6</td>\n",
       "      <td>10.0</td>\n",
       "      <td>16:30</td>\n",
       "      <td>NaN</td>\n",
       "      <td>1010.2</td>\n",
       "      <td>Varias</td>\n",
       "      <td>1005.8</td>\n",
       "      <td>24</td>\n",
       "    </tr>\n",
       "    <tr>\n",
       "      <td>3</td>\n",
       "      <td>1994-04-23</td>\n",
       "      <td>0201D</td>\n",
       "      <td>BARCELONA</td>\n",
       "      <td>BARCELONA</td>\n",
       "      <td>6</td>\n",
       "      <td>15.5</td>\n",
       "      <td>1.4</td>\n",
       "      <td>12.6</td>\n",
       "      <td>05:45</td>\n",
       "      <td>18.4</td>\n",
       "      <td>17:55</td>\n",
       "      <td>21.0</td>\n",
       "      <td>4.4</td>\n",
       "      <td>12.5</td>\n",
       "      <td>16:50</td>\n",
       "      <td>NaN</td>\n",
       "      <td>1007.5</td>\n",
       "      <td>09</td>\n",
       "      <td>1005.1</td>\n",
       "      <td>04</td>\n",
       "    </tr>\n",
       "    <tr>\n",
       "      <td>4</td>\n",
       "      <td>1994-04-24</td>\n",
       "      <td>0201D</td>\n",
       "      <td>BARCELONA</td>\n",
       "      <td>BARCELONA</td>\n",
       "      <td>6</td>\n",
       "      <td>13.4</td>\n",
       "      <td>6.8</td>\n",
       "      <td>10.8</td>\n",
       "      <td>23:40</td>\n",
       "      <td>16.1</td>\n",
       "      <td>Varias</td>\n",
       "      <td>28.0</td>\n",
       "      <td>3.1</td>\n",
       "      <td>17.5</td>\n",
       "      <td>16:00</td>\n",
       "      <td>NaN</td>\n",
       "      <td>1008.6</td>\n",
       "      <td>24</td>\n",
       "      <td>1003.4</td>\n",
       "      <td>17</td>\n",
       "    </tr>\n",
       "    <tr>\n",
       "      <td>...</td>\n",
       "      <td>...</td>\n",
       "      <td>...</td>\n",
       "      <td>...</td>\n",
       "      <td>...</td>\n",
       "      <td>...</td>\n",
       "      <td>...</td>\n",
       "      <td>...</td>\n",
       "      <td>...</td>\n",
       "      <td>...</td>\n",
       "      <td>...</td>\n",
       "      <td>...</td>\n",
       "      <td>...</td>\n",
       "      <td>...</td>\n",
       "      <td>...</td>\n",
       "      <td>...</td>\n",
       "      <td>...</td>\n",
       "      <td>...</td>\n",
       "      <td>...</td>\n",
       "      <td>...</td>\n",
       "      <td>...</td>\n",
       "    </tr>\n",
       "    <tr>\n",
       "      <td>9269</td>\n",
       "      <td>2021-06-30</td>\n",
       "      <td>0201D</td>\n",
       "      <td>BARCELONA</td>\n",
       "      <td>BARCELONA</td>\n",
       "      <td>6</td>\n",
       "      <td>23.4</td>\n",
       "      <td>0.0</td>\n",
       "      <td>21.6</td>\n",
       "      <td>04:10</td>\n",
       "      <td>25.2</td>\n",
       "      <td>11:00</td>\n",
       "      <td>4.0</td>\n",
       "      <td>4.7</td>\n",
       "      <td>9.7</td>\n",
       "      <td>17:50</td>\n",
       "      <td>NaN</td>\n",
       "      <td>NaN</td>\n",
       "      <td>NaN</td>\n",
       "      <td>NaN</td>\n",
       "      <td>NaN</td>\n",
       "    </tr>\n",
       "    <tr>\n",
       "      <td>9270</td>\n",
       "      <td>2021-07-01</td>\n",
       "      <td>0201D</td>\n",
       "      <td>BARCELONA</td>\n",
       "      <td>BARCELONA</td>\n",
       "      <td>6</td>\n",
       "      <td>23.8</td>\n",
       "      <td>0.0</td>\n",
       "      <td>22.1</td>\n",
       "      <td>05:20</td>\n",
       "      <td>25.5</td>\n",
       "      <td>17:50</td>\n",
       "      <td>99.0</td>\n",
       "      <td>4.7</td>\n",
       "      <td>10.8</td>\n",
       "      <td>14:40</td>\n",
       "      <td>NaN</td>\n",
       "      <td>NaN</td>\n",
       "      <td>NaN</td>\n",
       "      <td>NaN</td>\n",
       "      <td>NaN</td>\n",
       "    </tr>\n",
       "    <tr>\n",
       "      <td>9271</td>\n",
       "      <td>2021-07-02</td>\n",
       "      <td>0201D</td>\n",
       "      <td>BARCELONA</td>\n",
       "      <td>BARCELONA</td>\n",
       "      <td>6</td>\n",
       "      <td>24.4</td>\n",
       "      <td>0.0</td>\n",
       "      <td>21.9</td>\n",
       "      <td>03:10</td>\n",
       "      <td>26.8</td>\n",
       "      <td>14:30</td>\n",
       "      <td>10.0</td>\n",
       "      <td>4.4</td>\n",
       "      <td>10.8</td>\n",
       "      <td>15:40</td>\n",
       "      <td>NaN</td>\n",
       "      <td>NaN</td>\n",
       "      <td>NaN</td>\n",
       "      <td>NaN</td>\n",
       "      <td>NaN</td>\n",
       "    </tr>\n",
       "    <tr>\n",
       "      <td>9272</td>\n",
       "      <td>2021-07-03</td>\n",
       "      <td>0201D</td>\n",
       "      <td>BARCELONA</td>\n",
       "      <td>BARCELONA</td>\n",
       "      <td>6</td>\n",
       "      <td>24.4</td>\n",
       "      <td>0.0</td>\n",
       "      <td>22.4</td>\n",
       "      <td>03:30</td>\n",
       "      <td>26.4</td>\n",
       "      <td>08:00</td>\n",
       "      <td>2.0</td>\n",
       "      <td>3.9</td>\n",
       "      <td>10.8</td>\n",
       "      <td>11:30</td>\n",
       "      <td>NaN</td>\n",
       "      <td>NaN</td>\n",
       "      <td>NaN</td>\n",
       "      <td>NaN</td>\n",
       "      <td>NaN</td>\n",
       "    </tr>\n",
       "    <tr>\n",
       "      <td>9273</td>\n",
       "      <td>2021-07-04</td>\n",
       "      <td>0201D</td>\n",
       "      <td>BARCELONA</td>\n",
       "      <td>BARCELONA</td>\n",
       "      <td>6</td>\n",
       "      <td>24.4</td>\n",
       "      <td>0.0</td>\n",
       "      <td>21.9</td>\n",
       "      <td>23:40</td>\n",
       "      <td>27.0</td>\n",
       "      <td>12:10</td>\n",
       "      <td>26.0</td>\n",
       "      <td>5.8</td>\n",
       "      <td>13.1</td>\n",
       "      <td>12:20</td>\n",
       "      <td>NaN</td>\n",
       "      <td>NaN</td>\n",
       "      <td>NaN</td>\n",
       "      <td>NaN</td>\n",
       "      <td>NaN</td>\n",
       "    </tr>\n",
       "  </tbody>\n",
       "</table>\n",
       "<p>9274 rows × 20 columns</p>\n",
       "</div>"
      ],
      "text/plain": [
       "           FECHA INDICATIVO     NOMBRE  PROVINCIA  ALTITUD  TMEDIA  \\\n",
       "0     1994-04-20      0201D  BARCELONA  BARCELONA        6     NaN   \n",
       "1     1994-04-21      0201D  BARCELONA  BARCELONA        6    12.4   \n",
       "2     1994-04-22      0201D  BARCELONA  BARCELONA        6    13.6   \n",
       "3     1994-04-23      0201D  BARCELONA  BARCELONA        6    15.5   \n",
       "4     1994-04-24      0201D  BARCELONA  BARCELONA        6    13.4   \n",
       "...          ...        ...        ...        ...      ...     ...   \n",
       "9269  2021-06-30      0201D  BARCELONA  BARCELONA        6    23.4   \n",
       "9270  2021-07-01      0201D  BARCELONA  BARCELONA        6    23.8   \n",
       "9271  2021-07-02      0201D  BARCELONA  BARCELONA        6    24.4   \n",
       "9272  2021-07-03      0201D  BARCELONA  BARCELONA        6    24.4   \n",
       "9273  2021-07-04      0201D  BARCELONA  BARCELONA        6    24.4   \n",
       "\n",
       "     PRECIPITACION  TMIN HORATMIN  TMAX HORATMAX   DIR  VELMEDIA  RACHA  \\\n",
       "0              NaN   NaN      NaN   NaN      NaN  36.0       NaN   35.3   \n",
       "1              0.0  10.0    05:20  14.8   Varias  17.0       3.9    7.5   \n",
       "2              0.0  10.5    05:10  16.6    13:30  18.0       3.6   10.0   \n",
       "3              1.4  12.6    05:45  18.4    17:55  21.0       4.4   12.5   \n",
       "4              6.8  10.8    23:40  16.1   Varias  28.0       3.1   17.5   \n",
       "...            ...   ...      ...   ...      ...   ...       ...    ...   \n",
       "9269           0.0  21.6    04:10  25.2    11:00   4.0       4.7    9.7   \n",
       "9270           0.0  22.1    05:20  25.5    17:50  99.0       4.7   10.8   \n",
       "9271           0.0  21.9    03:10  26.8    14:30  10.0       4.4   10.8   \n",
       "9272           0.0  22.4    03:30  26.4    08:00   2.0       3.9   10.8   \n",
       "9273           0.0  21.9    23:40  27.0    12:10  26.0       5.8   13.1   \n",
       "\n",
       "     HORARACHA  SOL  PRESMAX HORAPRESMAX  PRESMIN HORAPRESMIN  \n",
       "0        70:40  NaN      NaN         NaN      NaN         NaN  \n",
       "1        17:40  NaN   1010.4      Varias   1002.7          02  \n",
       "2        16:30  NaN   1010.2      Varias   1005.8          24  \n",
       "3        16:50  NaN   1007.5          09   1005.1          04  \n",
       "4        16:00  NaN   1008.6          24   1003.4          17  \n",
       "...        ...  ...      ...         ...      ...         ...  \n",
       "9269     17:50  NaN      NaN         NaN      NaN         NaN  \n",
       "9270     14:40  NaN      NaN         NaN      NaN         NaN  \n",
       "9271     15:40  NaN      NaN         NaN      NaN         NaN  \n",
       "9272     11:30  NaN      NaN         NaN      NaN         NaN  \n",
       "9273     12:20  NaN      NaN         NaN      NaN         NaN  \n",
       "\n",
       "[9274 rows x 20 columns]"
      ]
     },
     "execution_count": 26,
     "metadata": {},
     "output_type": "execute_result"
    }
   ],
   "source": [
    "df"
   ]
  },
  {
   "cell_type": "markdown",
   "metadata": {},
   "source": [
    "### Descripcipión de variables del Dataset"
   ]
  },
  {
   "cell_type": "markdown",
   "metadata": {},
   "source": [
    "**Columna1**: Fecha en formato (aaaa-mm-dd) . Si lo abre con una hoja de cálculo, es posible que interprete el campo como fecha y lo vea en el formato habitual dd/mm/aaaa\n",
    "\n",
    "**Columna2**: Identificador de Estación Meteorológica (Valor de 4 ó 5 caracteres)\n",
    "\n",
    "**Columna3**: Nombre de la Estación\n",
    "\n",
    "**Columna4**: Provincia en la que se encuentra\n",
    "\n",
    "**Columna5**: Altitud (metros) sobre el nivel del mar\n",
    "\n",
    "**Columna6**: Temperatura media diaria (ºC)\n",
    "\n",
    "**Columna7**: Precipitación diaria de 07h a 07h (mm = l/m2) \n",
    "\n",
    "**Columna8**: Temperatura minima del día(ºC)\n",
    "\n",
    "**Columna9**: Hora de Temperatura mínima (hh:mm UTC)\n",
    "\n",
    "**Columna10**: Temperatura Máxima (ºC)\n",
    "\n",
    "**Columna11**: Hora de Temperatura máxima (hh:mm UTC)\n",
    "\n",
    "**Columna12**: Dirección de la racha máxima (decenas de grado)\n",
    "\n",
    "**Columna13**: Velocidad media del viento (m/s)\n",
    "\n",
    "**Columna14**: Racha máxima de viento (m/s)\n",
    "\n",
    "**Columna15**: Hora y minuto Racha máxima de viento (hh:mm UTC) \n",
    "\n",
    "**Columna16**: Horas de Sol (horas)\n",
    "\n",
    "**Columna17**: Presión máxima al nivel de referencia de la estación (hPa)\n",
    "\n",
    "**Columna18**: Hora de la presión máxima (redondeada a la hora entera más próxima) (hora)\n",
    "\n",
    "**Columna19**: Presión mínima al nivel de referencia de la estación (hPa)\n",
    "\n",
    "**Columna20**: Hora de la presión mínima (redondeada a la hora entera más próxima) (hora)\n"
   ]
  },
  {
   "cell_type": "markdown",
   "metadata": {},
   "source": [
    "---"
   ]
  },
  {
   "cell_type": "markdown",
   "metadata": {},
   "source": [
    "# Exploración y preprocesamiento inicial del dataset"
   ]
  },
  {
   "cell_type": "markdown",
   "metadata": {},
   "source": [
    "### Información detallada de dataset"
   ]
  },
  {
   "cell_type": "code",
   "execution_count": 53,
   "metadata": {},
   "outputs": [
    {
     "name": "stdout",
     "output_type": "stream",
     "text": [
      "<class 'pandas.core.frame.DataFrame'>\n",
      "RangeIndex: 9274 entries, 0 to 9273\n",
      "Data columns (total 20 columns):\n",
      "FECHA            9274 non-null datetime64[ns]\n",
      "INDICATIVO       9274 non-null object\n",
      "NOMBRE           9274 non-null object\n",
      "PROVINCIA        9274 non-null object\n",
      "ALTITUD          9274 non-null int64\n",
      "TMEDIA           8845 non-null float64\n",
      "PRECIPITACION    9274 non-null object\n",
      "TMIN             8846 non-null float64\n",
      "HORATMIN         8834 non-null object\n",
      "TMAX             8849 non-null float64\n",
      "HORATMAX         8833 non-null object\n",
      "DIR              8950 non-null float64\n",
      "VELMEDIA         9173 non-null float64\n",
      "RACHA            8950 non-null float64\n",
      "HORARACHA        8950 non-null object\n",
      "SOL              0 non-null float64\n",
      "PRESMAX          812 non-null float64\n",
      "HORAPRESMAX      812 non-null object\n",
      "PRESMIN          812 non-null float64\n",
      "HORAPRESMIN      812 non-null object\n",
      "dtypes: datetime64[ns](1), float64(9), int64(1), object(9)\n",
      "memory usage: 1.4+ MB\n"
     ]
    }
   ],
   "source": [
    "df.info()"
   ]
  },
  {
   "cell_type": "markdown",
   "metadata": {},
   "source": [
    "### Exploración de valores disponibles en columna PRECIPITACIONES"
   ]
  },
  {
   "cell_type": "markdown",
   "metadata": {},
   "source": [
    "##### Cantidad de valores diferentes"
   ]
  },
  {
   "cell_type": "code",
   "execution_count": 27,
   "metadata": {},
   "outputs": [
    {
     "data": {
      "text/plain": [
       "293"
      ]
     },
     "execution_count": 27,
     "metadata": {},
     "output_type": "execute_result"
    }
   ],
   "source": [
    "df.PRECIPITACION.nunique()"
   ]
  },
  {
   "cell_type": "code",
   "execution_count": 38,
   "metadata": {},
   "outputs": [
    {
     "data": {
      "text/plain": [
       "0.0     7049\n",
       "0.1      211\n",
       "0.2      103\n",
       "0.3       83\n",
       "0.4       80\n",
       "        ... \n",
       "9.2        1\n",
       "83.9       1\n",
       "49.1       1\n",
       "28.8       1\n",
       "16.0       1\n",
       "Name: PRECIPITACION, Length: 293, dtype: int64"
      ]
     },
     "execution_count": 38,
     "metadata": {},
     "output_type": "execute_result"
    }
   ],
   "source": [
    "df.PRECIPITACION.value_counts().sort_values(ascending=False)"
   ]
  },
  {
   "cell_type": "markdown",
   "metadata": {},
   "source": [
    "##### Cantidad de NA's"
   ]
  },
  {
   "cell_type": "code",
   "execution_count": 29,
   "metadata": {},
   "outputs": [
    {
     "data": {
      "text/plain": [
       "FECHA               0\n",
       "INDICATIVO          0\n",
       "NOMBRE              0\n",
       "PROVINCIA           0\n",
       "ALTITUD             0\n",
       "TMEDIA            429\n",
       "PRECIPITACION     353\n",
       "TMIN              428\n",
       "HORATMIN          440\n",
       "TMAX              425\n",
       "HORATMAX          441\n",
       "DIR               324\n",
       "VELMEDIA          101\n",
       "RACHA             324\n",
       "HORARACHA         324\n",
       "SOL              9274\n",
       "PRESMAX          8462\n",
       "HORAPRESMAX      8462\n",
       "PRESMIN          8462\n",
       "HORAPRESMIN      8462\n",
       "dtype: int64"
      ]
     },
     "execution_count": 29,
     "metadata": {},
     "output_type": "execute_result"
    }
   ],
   "source": [
    "df.isna().sum()"
   ]
  },
  {
   "cell_type": "markdown",
   "metadata": {},
   "source": [
    "##### Qué filas tienen NA y por qué?"
   ]
  },
  {
   "cell_type": "code",
   "execution_count": 40,
   "metadata": {},
   "outputs": [
    {
     "data": {
      "text/html": [
       "<div>\n",
       "<style scoped>\n",
       "    .dataframe tbody tr th:only-of-type {\n",
       "        vertical-align: middle;\n",
       "    }\n",
       "\n",
       "    .dataframe tbody tr th {\n",
       "        vertical-align: top;\n",
       "    }\n",
       "\n",
       "    .dataframe thead th {\n",
       "        text-align: right;\n",
       "    }\n",
       "</style>\n",
       "<table border=\"1\" class=\"dataframe\">\n",
       "  <thead>\n",
       "    <tr style=\"text-align: right;\">\n",
       "      <th></th>\n",
       "      <th>FECHA</th>\n",
       "      <th>INDICATIVO</th>\n",
       "      <th>NOMBRE</th>\n",
       "      <th>PROVINCIA</th>\n",
       "      <th>ALTITUD</th>\n",
       "      <th>TMEDIA</th>\n",
       "      <th>PRECIPITACION</th>\n",
       "      <th>TMIN</th>\n",
       "      <th>HORATMIN</th>\n",
       "      <th>TMAX</th>\n",
       "      <th>HORATMAX</th>\n",
       "      <th>DIR</th>\n",
       "      <th>VELMEDIA</th>\n",
       "      <th>RACHA</th>\n",
       "      <th>HORARACHA</th>\n",
       "      <th>SOL</th>\n",
       "      <th>PRESMAX</th>\n",
       "      <th>HORAPRESMAX</th>\n",
       "      <th>PRESMIN</th>\n",
       "      <th>HORAPRESMIN</th>\n",
       "    </tr>\n",
       "  </thead>\n",
       "  <tbody>\n",
       "    <tr>\n",
       "      <td>0</td>\n",
       "      <td>1994-04-20</td>\n",
       "      <td>0201D</td>\n",
       "      <td>BARCELONA</td>\n",
       "      <td>BARCELONA</td>\n",
       "      <td>6</td>\n",
       "      <td>NaN</td>\n",
       "      <td>NaN</td>\n",
       "      <td>NaN</td>\n",
       "      <td>NaN</td>\n",
       "      <td>NaN</td>\n",
       "      <td>NaN</td>\n",
       "      <td>36.0</td>\n",
       "      <td>NaN</td>\n",
       "      <td>35.3</td>\n",
       "      <td>70:40</td>\n",
       "      <td>NaN</td>\n",
       "      <td>NaN</td>\n",
       "      <td>NaN</td>\n",
       "      <td>NaN</td>\n",
       "      <td>NaN</td>\n",
       "    </tr>\n",
       "    <tr>\n",
       "      <td>5</td>\n",
       "      <td>1994-04-25</td>\n",
       "      <td>0201D</td>\n",
       "      <td>BARCELONA</td>\n",
       "      <td>BARCELONA</td>\n",
       "      <td>6</td>\n",
       "      <td>NaN</td>\n",
       "      <td>NaN</td>\n",
       "      <td>NaN</td>\n",
       "      <td>NaN</td>\n",
       "      <td>NaN</td>\n",
       "      <td>NaN</td>\n",
       "      <td>NaN</td>\n",
       "      <td>4.2</td>\n",
       "      <td>NaN</td>\n",
       "      <td>NaN</td>\n",
       "      <td>NaN</td>\n",
       "      <td>NaN</td>\n",
       "      <td>NaN</td>\n",
       "      <td>NaN</td>\n",
       "      <td>NaN</td>\n",
       "    </tr>\n",
       "    <tr>\n",
       "      <td>7</td>\n",
       "      <td>1994-04-27</td>\n",
       "      <td>0201D</td>\n",
       "      <td>BARCELONA</td>\n",
       "      <td>BARCELONA</td>\n",
       "      <td>6</td>\n",
       "      <td>16.8</td>\n",
       "      <td>NaN</td>\n",
       "      <td>13.8</td>\n",
       "      <td>01:00</td>\n",
       "      <td>19.7</td>\n",
       "      <td>09:40</td>\n",
       "      <td>NaN</td>\n",
       "      <td>NaN</td>\n",
       "      <td>NaN</td>\n",
       "      <td>NaN</td>\n",
       "      <td>NaN</td>\n",
       "      <td>1024.7</td>\n",
       "      <td>10</td>\n",
       "      <td>1022.4</td>\n",
       "      <td>Varias</td>\n",
       "    </tr>\n",
       "    <tr>\n",
       "      <td>54</td>\n",
       "      <td>1994-06-15</td>\n",
       "      <td>0201D</td>\n",
       "      <td>BARCELONA</td>\n",
       "      <td>BARCELONA</td>\n",
       "      <td>6</td>\n",
       "      <td>NaN</td>\n",
       "      <td>NaN</td>\n",
       "      <td>NaN</td>\n",
       "      <td>NaN</td>\n",
       "      <td>NaN</td>\n",
       "      <td>NaN</td>\n",
       "      <td>NaN</td>\n",
       "      <td>6.1</td>\n",
       "      <td>NaN</td>\n",
       "      <td>NaN</td>\n",
       "      <td>NaN</td>\n",
       "      <td>NaN</td>\n",
       "      <td>NaN</td>\n",
       "      <td>NaN</td>\n",
       "      <td>NaN</td>\n",
       "    </tr>\n",
       "    <tr>\n",
       "      <td>76</td>\n",
       "      <td>1994-07-11</td>\n",
       "      <td>0201D</td>\n",
       "      <td>BARCELONA</td>\n",
       "      <td>BARCELONA</td>\n",
       "      <td>6</td>\n",
       "      <td>25.4</td>\n",
       "      <td>NaN</td>\n",
       "      <td>23.0</td>\n",
       "      <td>04:40</td>\n",
       "      <td>27.9</td>\n",
       "      <td>Varias</td>\n",
       "      <td>6.0</td>\n",
       "      <td>2.5</td>\n",
       "      <td>6.4</td>\n",
       "      <td>17:20</td>\n",
       "      <td>NaN</td>\n",
       "      <td>1015.6</td>\n",
       "      <td>11</td>\n",
       "      <td>1013.6</td>\n",
       "      <td>Varias</td>\n",
       "    </tr>\n",
       "    <tr>\n",
       "      <td>...</td>\n",
       "      <td>...</td>\n",
       "      <td>...</td>\n",
       "      <td>...</td>\n",
       "      <td>...</td>\n",
       "      <td>...</td>\n",
       "      <td>...</td>\n",
       "      <td>...</td>\n",
       "      <td>...</td>\n",
       "      <td>...</td>\n",
       "      <td>...</td>\n",
       "      <td>...</td>\n",
       "      <td>...</td>\n",
       "      <td>...</td>\n",
       "      <td>...</td>\n",
       "      <td>...</td>\n",
       "      <td>...</td>\n",
       "      <td>...</td>\n",
       "      <td>...</td>\n",
       "      <td>...</td>\n",
       "      <td>...</td>\n",
       "    </tr>\n",
       "    <tr>\n",
       "      <td>7382</td>\n",
       "      <td>2016-04-28</td>\n",
       "      <td>0201D</td>\n",
       "      <td>BARCELONA</td>\n",
       "      <td>BARCELONA</td>\n",
       "      <td>6</td>\n",
       "      <td>13.6</td>\n",
       "      <td>NaN</td>\n",
       "      <td>11.6</td>\n",
       "      <td>01:00</td>\n",
       "      <td>15.5</td>\n",
       "      <td>16:00</td>\n",
       "      <td>9.0</td>\n",
       "      <td>4.7</td>\n",
       "      <td>11.4</td>\n",
       "      <td>07:40</td>\n",
       "      <td>NaN</td>\n",
       "      <td>NaN</td>\n",
       "      <td>NaN</td>\n",
       "      <td>NaN</td>\n",
       "      <td>NaN</td>\n",
       "    </tr>\n",
       "    <tr>\n",
       "      <td>7496</td>\n",
       "      <td>2016-08-20</td>\n",
       "      <td>0201D</td>\n",
       "      <td>BARCELONA</td>\n",
       "      <td>BARCELONA</td>\n",
       "      <td>6</td>\n",
       "      <td>25.4</td>\n",
       "      <td>NaN</td>\n",
       "      <td>23.7</td>\n",
       "      <td>06:00</td>\n",
       "      <td>27.2</td>\n",
       "      <td>11:40</td>\n",
       "      <td>9.0</td>\n",
       "      <td>6.9</td>\n",
       "      <td>12.8</td>\n",
       "      <td>12:30</td>\n",
       "      <td>NaN</td>\n",
       "      <td>NaN</td>\n",
       "      <td>NaN</td>\n",
       "      <td>NaN</td>\n",
       "      <td>NaN</td>\n",
       "    </tr>\n",
       "    <tr>\n",
       "      <td>7576</td>\n",
       "      <td>2016-11-10</td>\n",
       "      <td>0201D</td>\n",
       "      <td>BARCELONA</td>\n",
       "      <td>BARCELONA</td>\n",
       "      <td>6</td>\n",
       "      <td>NaN</td>\n",
       "      <td>NaN</td>\n",
       "      <td>NaN</td>\n",
       "      <td>NaN</td>\n",
       "      <td>NaN</td>\n",
       "      <td>NaN</td>\n",
       "      <td>29.0</td>\n",
       "      <td>1.1</td>\n",
       "      <td>9.4</td>\n",
       "      <td>10:00</td>\n",
       "      <td>NaN</td>\n",
       "      <td>NaN</td>\n",
       "      <td>NaN</td>\n",
       "      <td>NaN</td>\n",
       "      <td>NaN</td>\n",
       "    </tr>\n",
       "    <tr>\n",
       "      <td>8031</td>\n",
       "      <td>2018-02-08</td>\n",
       "      <td>0201D</td>\n",
       "      <td>BARCELONA</td>\n",
       "      <td>BARCELONA</td>\n",
       "      <td>6</td>\n",
       "      <td>3.6</td>\n",
       "      <td>NaN</td>\n",
       "      <td>1.1</td>\n",
       "      <td>13:00</td>\n",
       "      <td>6.1</td>\n",
       "      <td>10:40</td>\n",
       "      <td>8.0</td>\n",
       "      <td>2.8</td>\n",
       "      <td>10.0</td>\n",
       "      <td>12:20</td>\n",
       "      <td>NaN</td>\n",
       "      <td>NaN</td>\n",
       "      <td>NaN</td>\n",
       "      <td>NaN</td>\n",
       "      <td>NaN</td>\n",
       "    </tr>\n",
       "    <tr>\n",
       "      <td>9267</td>\n",
       "      <td>2021-06-28</td>\n",
       "      <td>0201D</td>\n",
       "      <td>BARCELONA</td>\n",
       "      <td>BARCELONA</td>\n",
       "      <td>6</td>\n",
       "      <td>23.1</td>\n",
       "      <td>NaN</td>\n",
       "      <td>20.3</td>\n",
       "      <td>04:30</td>\n",
       "      <td>25.9</td>\n",
       "      <td>11:30</td>\n",
       "      <td>9.0</td>\n",
       "      <td>3.3</td>\n",
       "      <td>8.9</td>\n",
       "      <td>20:00</td>\n",
       "      <td>NaN</td>\n",
       "      <td>NaN</td>\n",
       "      <td>NaN</td>\n",
       "      <td>NaN</td>\n",
       "      <td>NaN</td>\n",
       "    </tr>\n",
       "  </tbody>\n",
       "</table>\n",
       "<p>353 rows × 20 columns</p>\n",
       "</div>"
      ],
      "text/plain": [
       "          FECHA INDICATIVO     NOMBRE  PROVINCIA  ALTITUD  TMEDIA  \\\n",
       "0    1994-04-20      0201D  BARCELONA  BARCELONA        6     NaN   \n",
       "5    1994-04-25      0201D  BARCELONA  BARCELONA        6     NaN   \n",
       "7    1994-04-27      0201D  BARCELONA  BARCELONA        6    16.8   \n",
       "54   1994-06-15      0201D  BARCELONA  BARCELONA        6     NaN   \n",
       "76   1994-07-11      0201D  BARCELONA  BARCELONA        6    25.4   \n",
       "...         ...        ...        ...        ...      ...     ...   \n",
       "7382 2016-04-28      0201D  BARCELONA  BARCELONA        6    13.6   \n",
       "7496 2016-08-20      0201D  BARCELONA  BARCELONA        6    25.4   \n",
       "7576 2016-11-10      0201D  BARCELONA  BARCELONA        6     NaN   \n",
       "8031 2018-02-08      0201D  BARCELONA  BARCELONA        6     3.6   \n",
       "9267 2021-06-28      0201D  BARCELONA  BARCELONA        6    23.1   \n",
       "\n",
       "     PRECIPITACION  TMIN HORATMIN  TMAX HORATMAX   DIR  VELMEDIA  RACHA  \\\n",
       "0              NaN   NaN      NaN   NaN      NaN  36.0       NaN   35.3   \n",
       "5              NaN   NaN      NaN   NaN      NaN   NaN       4.2    NaN   \n",
       "7              NaN  13.8    01:00  19.7    09:40   NaN       NaN    NaN   \n",
       "54             NaN   NaN      NaN   NaN      NaN   NaN       6.1    NaN   \n",
       "76             NaN  23.0    04:40  27.9   Varias   6.0       2.5    6.4   \n",
       "...            ...   ...      ...   ...      ...   ...       ...    ...   \n",
       "7382           NaN  11.6    01:00  15.5    16:00   9.0       4.7   11.4   \n",
       "7496           NaN  23.7    06:00  27.2    11:40   9.0       6.9   12.8   \n",
       "7576           NaN   NaN      NaN   NaN      NaN  29.0       1.1    9.4   \n",
       "8031           NaN   1.1    13:00   6.1    10:40   8.0       2.8   10.0   \n",
       "9267           NaN  20.3    04:30  25.9    11:30   9.0       3.3    8.9   \n",
       "\n",
       "     HORARACHA  SOL  PRESMAX HORAPRESMAX  PRESMIN HORAPRESMIN  \n",
       "0        70:40  NaN      NaN         NaN      NaN         NaN  \n",
       "5          NaN  NaN      NaN         NaN      NaN         NaN  \n",
       "7          NaN  NaN   1024.7          10   1022.4      Varias  \n",
       "54         NaN  NaN      NaN         NaN      NaN         NaN  \n",
       "76       17:20  NaN   1015.6          11   1013.6      Varias  \n",
       "...        ...  ...      ...         ...      ...         ...  \n",
       "7382     07:40  NaN      NaN         NaN      NaN         NaN  \n",
       "7496     12:30  NaN      NaN         NaN      NaN         NaN  \n",
       "7576     10:00  NaN      NaN         NaN      NaN         NaN  \n",
       "8031     12:20  NaN      NaN         NaN      NaN         NaN  \n",
       "9267     20:00  NaN      NaN         NaN      NaN         NaN  \n",
       "\n",
       "[353 rows x 20 columns]"
      ]
     },
     "execution_count": 40,
     "metadata": {},
     "output_type": "execute_result"
    }
   ],
   "source": [
    "df[df['PRECIPITACION'].isna()]"
   ]
  },
  {
   "cell_type": "markdown",
   "metadata": {},
   "source": [
    "##### Observamos los valores posibles para la variable"
   ]
  },
  {
   "cell_type": "code",
   "execution_count": 83,
   "metadata": {},
   "outputs": [],
   "source": [
    "unique_values = df.PRECIPITACION.unique().tolist()\n",
    "unique_values.sort()"
   ]
  },
  {
   "cell_type": "code",
   "execution_count": 84,
   "metadata": {},
   "outputs": [
    {
     "data": {
      "text/plain": [
       "['0',\n",
       " '0.0',\n",
       " '0.1',\n",
       " '0.2',\n",
       " '0.3',\n",
       " '0.4',\n",
       " '0.5',\n",
       " '0.6',\n",
       " '0.7',\n",
       " '0.8',\n",
       " '0.9',\n",
       " '1.0',\n",
       " '1.1',\n",
       " '1.2',\n",
       " '1.3',\n",
       " '1.4',\n",
       " '1.5',\n",
       " '1.6',\n",
       " '1.7',\n",
       " '1.8',\n",
       " '1.9',\n",
       " '10.0',\n",
       " '10.1',\n",
       " '10.2',\n",
       " '10.3',\n",
       " '10.5',\n",
       " '10.6',\n",
       " '10.7',\n",
       " '10.9',\n",
       " '109.3',\n",
       " '11.0',\n",
       " '11.1',\n",
       " '11.2',\n",
       " '11.3',\n",
       " '11.4',\n",
       " '11.5',\n",
       " '11.6',\n",
       " '11.7',\n",
       " '11.8',\n",
       " '11.9',\n",
       " '111.9',\n",
       " '112.1',\n",
       " '112.6',\n",
       " '12.0',\n",
       " '12.1',\n",
       " '12.2',\n",
       " '12.3',\n",
       " '12.4',\n",
       " '12.5',\n",
       " '12.6',\n",
       " '12.7',\n",
       " '12.8',\n",
       " '12.9',\n",
       " '13.0',\n",
       " '13.1',\n",
       " '13.2',\n",
       " '13.3',\n",
       " '13.4',\n",
       " '13.5',\n",
       " '13.6',\n",
       " '13.7',\n",
       " '13.8',\n",
       " '13.9',\n",
       " '14.0',\n",
       " '14.1',\n",
       " '14.2',\n",
       " '14.3',\n",
       " '14.4',\n",
       " '14.5',\n",
       " '14.6',\n",
       " '14.7',\n",
       " '14.8',\n",
       " '15.0',\n",
       " '15.1',\n",
       " '15.2',\n",
       " '15.3',\n",
       " '15.4',\n",
       " '15.5',\n",
       " '15.6',\n",
       " '15.9',\n",
       " '16.0',\n",
       " '16.1',\n",
       " '16.2',\n",
       " '16.3',\n",
       " '16.4',\n",
       " '16.5',\n",
       " '16.6',\n",
       " '16.7',\n",
       " '16.8',\n",
       " '16.9',\n",
       " '17.0',\n",
       " '17.1',\n",
       " '17.2',\n",
       " '17.3',\n",
       " '17.4',\n",
       " '17.5',\n",
       " '17.6',\n",
       " '17.8',\n",
       " '17.9',\n",
       " '18.0',\n",
       " '18.2',\n",
       " '18.5',\n",
       " '18.7',\n",
       " '18.8',\n",
       " '18.9',\n",
       " '19.2',\n",
       " '19.5',\n",
       " '19.7',\n",
       " '19.8',\n",
       " '19.9',\n",
       " '2.0',\n",
       " '2.1',\n",
       " '2.2',\n",
       " '2.3',\n",
       " '2.4',\n",
       " '2.5',\n",
       " '2.6',\n",
       " '2.7',\n",
       " '2.8',\n",
       " '2.9',\n",
       " '20.0',\n",
       " '20.2',\n",
       " '20.3',\n",
       " '20.4',\n",
       " '20.5',\n",
       " '20.6',\n",
       " '20.7',\n",
       " '20.8',\n",
       " '21.0',\n",
       " '21.2',\n",
       " '21.3',\n",
       " '21.6',\n",
       " '21.7',\n",
       " '21.9',\n",
       " '22.3',\n",
       " '23.0',\n",
       " '23.1',\n",
       " '23.2',\n",
       " '23.3',\n",
       " '23.6',\n",
       " '24.0',\n",
       " '24.2',\n",
       " '24.5',\n",
       " '24.8',\n",
       " '24.9',\n",
       " '25.1',\n",
       " '25.2',\n",
       " '25.3',\n",
       " '25.5',\n",
       " '25.8',\n",
       " '25.9',\n",
       " '26.0',\n",
       " '26.1',\n",
       " '26.4',\n",
       " '26.8',\n",
       " '26.9',\n",
       " '27.0',\n",
       " '27.1',\n",
       " '27.4',\n",
       " '27.5',\n",
       " '27.8',\n",
       " '28.0',\n",
       " '28.1',\n",
       " '28.3',\n",
       " '28.8',\n",
       " '29.0',\n",
       " '29.2',\n",
       " '29.3',\n",
       " '29.5',\n",
       " '29.6',\n",
       " '29.7',\n",
       " '29.8',\n",
       " '29.9',\n",
       " '3.0',\n",
       " '3.1',\n",
       " '3.2',\n",
       " '3.3',\n",
       " '3.4',\n",
       " '3.5',\n",
       " '3.6',\n",
       " '3.7',\n",
       " '3.8',\n",
       " '3.9',\n",
       " '30.0',\n",
       " '31.3',\n",
       " '31.4',\n",
       " '31.6',\n",
       " '31.9',\n",
       " '32.0',\n",
       " '32.4',\n",
       " '33.1',\n",
       " '33.2',\n",
       " '33.3',\n",
       " '34.4',\n",
       " '34.9',\n",
       " '35.0',\n",
       " '35.7',\n",
       " '36.9',\n",
       " '37.3',\n",
       " '37.4',\n",
       " '37.5',\n",
       " '37.6',\n",
       " '38.5',\n",
       " '38.7',\n",
       " '39.1',\n",
       " '4.0',\n",
       " '4.1',\n",
       " '4.2',\n",
       " '4.3',\n",
       " '4.4',\n",
       " '4.5',\n",
       " '4.6',\n",
       " '4.7',\n",
       " '4.8',\n",
       " '4.9',\n",
       " '40.1',\n",
       " '41.0',\n",
       " '41.8',\n",
       " '42.0',\n",
       " '42.2',\n",
       " '42.3',\n",
       " '45.0',\n",
       " '45.1',\n",
       " '46.2',\n",
       " '46.4',\n",
       " '47.1',\n",
       " '49.1',\n",
       " '49.3',\n",
       " '49.9',\n",
       " '5.0',\n",
       " '5.1',\n",
       " '5.2',\n",
       " '5.3',\n",
       " '5.4',\n",
       " '5.5',\n",
       " '5.6',\n",
       " '5.7',\n",
       " '5.8',\n",
       " '5.9',\n",
       " '51.2',\n",
       " '53.6',\n",
       " '54.0',\n",
       " '58.7',\n",
       " '59.2',\n",
       " '6.0',\n",
       " '6.1',\n",
       " '6.2',\n",
       " '6.3',\n",
       " '6.4',\n",
       " '6.5',\n",
       " '6.6',\n",
       " '6.7',\n",
       " '6.8',\n",
       " '6.9',\n",
       " '62.5',\n",
       " '66.0',\n",
       " '66.7',\n",
       " '68.3',\n",
       " '7.0',\n",
       " '7.1',\n",
       " '7.2',\n",
       " '7.3',\n",
       " '7.4',\n",
       " '7.5',\n",
       " '7.6',\n",
       " '7.7',\n",
       " '7.8',\n",
       " '7.9',\n",
       " '77.3',\n",
       " '8.0',\n",
       " '8.1',\n",
       " '8.2',\n",
       " '8.3',\n",
       " '8.4',\n",
       " '8.5',\n",
       " '8.6',\n",
       " '8.7',\n",
       " '8.8',\n",
       " '8.9',\n",
       " '80.0',\n",
       " '80.9',\n",
       " '81.9',\n",
       " '83.9',\n",
       " '9.0',\n",
       " '9.1',\n",
       " '9.2',\n",
       " '9.3',\n",
       " '9.4',\n",
       " '9.5',\n",
       " '9.6',\n",
       " '9.7',\n",
       " '9.8',\n",
       " '9.9',\n",
       " 'Ip']"
      ]
     },
     "execution_count": 84,
     "metadata": {},
     "output_type": "execute_result"
    }
   ],
   "source": [
    "unique_values"
   ]
  },
  {
   "cell_type": "markdown",
   "metadata": {},
   "source": [
    "El valor 0 sí que existe, entonces descartamos la hipótesis de que todos los NA's sean necesariamente \"0\""
   ]
  },
  {
   "cell_type": "markdown",
   "metadata": {},
   "source": [
    "En principio procedemos por remplazar los NA por 0, pero más adelante se reemplazará por la media de cada mes a modo de ocasionar el menor impacto posible respecto a las métricas de agregación"
   ]
  },
  {
   "cell_type": "markdown",
   "metadata": {},
   "source": [
    "##### Se procede a llenar los NA's con el valor 0"
   ]
  },
  {
   "cell_type": "code",
   "execution_count": 43,
   "metadata": {},
   "outputs": [],
   "source": [
    "df['PRECIPITACION'].fillna(value=0, inplace=True)"
   ]
  },
  {
   "cell_type": "markdown",
   "metadata": {},
   "source": [
    "##### Chequeo acerca de correcto reemplazo de NA's"
   ]
  },
  {
   "cell_type": "code",
   "execution_count": 44,
   "metadata": {},
   "outputs": [
    {
     "data": {
      "text/plain": [
       "0"
      ]
     },
     "execution_count": 44,
     "metadata": {},
     "output_type": "execute_result"
    }
   ],
   "source": [
    "df.PRECIPITACION.isna().sum()"
   ]
  },
  {
   "cell_type": "markdown",
   "metadata": {},
   "source": [
    "### Conversion de formatos de variables: PRECIPITACION (FLOAT), FECHA (DATETIME)"
   ]
  },
  {
   "cell_type": "markdown",
   "metadata": {},
   "source": [
    "##### PRECIPITACION COMO FLOAT"
   ]
  },
  {
   "cell_type": "markdown",
   "metadata": {},
   "source": [
    "Al querer convertir la variable a FLOAT, me he dado cuenta que uno de los valores posibles es \"ip\". Procedo a buscar en qué filas se encuentra y su posible significado para detallar el tratamiento correspondiente de dicho valor"
   ]
  },
  {
   "cell_type": "code",
   "execution_count": 59,
   "metadata": {},
   "outputs": [
    {
     "ename": "ValueError",
     "evalue": "could not convert string to float: 'Ip'",
     "output_type": "error",
     "traceback": [
      "\u001b[1;31m---------------------------------------------------------------------------\u001b[0m",
      "\u001b[1;31mValueError\u001b[0m                                Traceback (most recent call last)",
      "\u001b[1;32m<ipython-input-59-7eddcdca4c75>\u001b[0m in \u001b[0;36m<module>\u001b[1;34m\u001b[0m\n\u001b[1;32m----> 1\u001b[1;33m \u001b[0mdf\u001b[0m\u001b[1;33m.\u001b[0m\u001b[0mPRECIPITACION\u001b[0m \u001b[1;33m=\u001b[0m \u001b[0mdf\u001b[0m\u001b[1;33m.\u001b[0m\u001b[0mPRECIPITACION\u001b[0m\u001b[1;33m.\u001b[0m\u001b[0mastype\u001b[0m\u001b[1;33m(\u001b[0m\u001b[1;34m'float64'\u001b[0m\u001b[1;33m)\u001b[0m\u001b[1;33m\u001b[0m\u001b[1;33m\u001b[0m\u001b[0m\n\u001b[0m",
      "\u001b[1;32m~\\Anaconda3\\lib\\site-packages\\pandas\\core\\generic.py\u001b[0m in \u001b[0;36mastype\u001b[1;34m(self, dtype, copy, errors, **kwargs)\u001b[0m\n\u001b[0;32m   5880\u001b[0m             \u001b[1;31m# else, only a single dtype is given\u001b[0m\u001b[1;33m\u001b[0m\u001b[1;33m\u001b[0m\u001b[1;33m\u001b[0m\u001b[0m\n\u001b[0;32m   5881\u001b[0m             new_data = self._data.astype(\n\u001b[1;32m-> 5882\u001b[1;33m                 \u001b[0mdtype\u001b[0m\u001b[1;33m=\u001b[0m\u001b[0mdtype\u001b[0m\u001b[1;33m,\u001b[0m \u001b[0mcopy\u001b[0m\u001b[1;33m=\u001b[0m\u001b[0mcopy\u001b[0m\u001b[1;33m,\u001b[0m \u001b[0merrors\u001b[0m\u001b[1;33m=\u001b[0m\u001b[0merrors\u001b[0m\u001b[1;33m,\u001b[0m \u001b[1;33m**\u001b[0m\u001b[0mkwargs\u001b[0m\u001b[1;33m\u001b[0m\u001b[1;33m\u001b[0m\u001b[0m\n\u001b[0m\u001b[0;32m   5883\u001b[0m             )\n\u001b[0;32m   5884\u001b[0m             \u001b[1;32mreturn\u001b[0m \u001b[0mself\u001b[0m\u001b[1;33m.\u001b[0m\u001b[0m_constructor\u001b[0m\u001b[1;33m(\u001b[0m\u001b[0mnew_data\u001b[0m\u001b[1;33m)\u001b[0m\u001b[1;33m.\u001b[0m\u001b[0m__finalize__\u001b[0m\u001b[1;33m(\u001b[0m\u001b[0mself\u001b[0m\u001b[1;33m)\u001b[0m\u001b[1;33m\u001b[0m\u001b[1;33m\u001b[0m\u001b[0m\n",
      "\u001b[1;32m~\\Anaconda3\\lib\\site-packages\\pandas\\core\\internals\\managers.py\u001b[0m in \u001b[0;36mastype\u001b[1;34m(self, dtype, **kwargs)\u001b[0m\n\u001b[0;32m    579\u001b[0m \u001b[1;33m\u001b[0m\u001b[0m\n\u001b[0;32m    580\u001b[0m     \u001b[1;32mdef\u001b[0m \u001b[0mastype\u001b[0m\u001b[1;33m(\u001b[0m\u001b[0mself\u001b[0m\u001b[1;33m,\u001b[0m \u001b[0mdtype\u001b[0m\u001b[1;33m,\u001b[0m \u001b[1;33m**\u001b[0m\u001b[0mkwargs\u001b[0m\u001b[1;33m)\u001b[0m\u001b[1;33m:\u001b[0m\u001b[1;33m\u001b[0m\u001b[1;33m\u001b[0m\u001b[0m\n\u001b[1;32m--> 581\u001b[1;33m         \u001b[1;32mreturn\u001b[0m \u001b[0mself\u001b[0m\u001b[1;33m.\u001b[0m\u001b[0mapply\u001b[0m\u001b[1;33m(\u001b[0m\u001b[1;34m\"astype\"\u001b[0m\u001b[1;33m,\u001b[0m \u001b[0mdtype\u001b[0m\u001b[1;33m=\u001b[0m\u001b[0mdtype\u001b[0m\u001b[1;33m,\u001b[0m \u001b[1;33m**\u001b[0m\u001b[0mkwargs\u001b[0m\u001b[1;33m)\u001b[0m\u001b[1;33m\u001b[0m\u001b[1;33m\u001b[0m\u001b[0m\n\u001b[0m\u001b[0;32m    582\u001b[0m \u001b[1;33m\u001b[0m\u001b[0m\n\u001b[0;32m    583\u001b[0m     \u001b[1;32mdef\u001b[0m \u001b[0mconvert\u001b[0m\u001b[1;33m(\u001b[0m\u001b[0mself\u001b[0m\u001b[1;33m,\u001b[0m \u001b[1;33m**\u001b[0m\u001b[0mkwargs\u001b[0m\u001b[1;33m)\u001b[0m\u001b[1;33m:\u001b[0m\u001b[1;33m\u001b[0m\u001b[1;33m\u001b[0m\u001b[0m\n",
      "\u001b[1;32m~\\Anaconda3\\lib\\site-packages\\pandas\\core\\internals\\managers.py\u001b[0m in \u001b[0;36mapply\u001b[1;34m(self, f, axes, filter, do_integrity_check, consolidate, **kwargs)\u001b[0m\n\u001b[0;32m    436\u001b[0m                     \u001b[0mkwargs\u001b[0m\u001b[1;33m[\u001b[0m\u001b[0mk\u001b[0m\u001b[1;33m]\u001b[0m \u001b[1;33m=\u001b[0m \u001b[0mobj\u001b[0m\u001b[1;33m.\u001b[0m\u001b[0mreindex\u001b[0m\u001b[1;33m(\u001b[0m\u001b[0mb_items\u001b[0m\u001b[1;33m,\u001b[0m \u001b[0maxis\u001b[0m\u001b[1;33m=\u001b[0m\u001b[0maxis\u001b[0m\u001b[1;33m,\u001b[0m \u001b[0mcopy\u001b[0m\u001b[1;33m=\u001b[0m\u001b[0malign_copy\u001b[0m\u001b[1;33m)\u001b[0m\u001b[1;33m\u001b[0m\u001b[1;33m\u001b[0m\u001b[0m\n\u001b[0;32m    437\u001b[0m \u001b[1;33m\u001b[0m\u001b[0m\n\u001b[1;32m--> 438\u001b[1;33m             \u001b[0mapplied\u001b[0m \u001b[1;33m=\u001b[0m \u001b[0mgetattr\u001b[0m\u001b[1;33m(\u001b[0m\u001b[0mb\u001b[0m\u001b[1;33m,\u001b[0m \u001b[0mf\u001b[0m\u001b[1;33m)\u001b[0m\u001b[1;33m(\u001b[0m\u001b[1;33m**\u001b[0m\u001b[0mkwargs\u001b[0m\u001b[1;33m)\u001b[0m\u001b[1;33m\u001b[0m\u001b[1;33m\u001b[0m\u001b[0m\n\u001b[0m\u001b[0;32m    439\u001b[0m             \u001b[0mresult_blocks\u001b[0m \u001b[1;33m=\u001b[0m \u001b[0m_extend_blocks\u001b[0m\u001b[1;33m(\u001b[0m\u001b[0mapplied\u001b[0m\u001b[1;33m,\u001b[0m \u001b[0mresult_blocks\u001b[0m\u001b[1;33m)\u001b[0m\u001b[1;33m\u001b[0m\u001b[1;33m\u001b[0m\u001b[0m\n\u001b[0;32m    440\u001b[0m \u001b[1;33m\u001b[0m\u001b[0m\n",
      "\u001b[1;32m~\\Anaconda3\\lib\\site-packages\\pandas\\core\\internals\\blocks.py\u001b[0m in \u001b[0;36mastype\u001b[1;34m(self, dtype, copy, errors, values, **kwargs)\u001b[0m\n\u001b[0;32m    557\u001b[0m \u001b[1;33m\u001b[0m\u001b[0m\n\u001b[0;32m    558\u001b[0m     \u001b[1;32mdef\u001b[0m \u001b[0mastype\u001b[0m\u001b[1;33m(\u001b[0m\u001b[0mself\u001b[0m\u001b[1;33m,\u001b[0m \u001b[0mdtype\u001b[0m\u001b[1;33m,\u001b[0m \u001b[0mcopy\u001b[0m\u001b[1;33m=\u001b[0m\u001b[1;32mFalse\u001b[0m\u001b[1;33m,\u001b[0m \u001b[0merrors\u001b[0m\u001b[1;33m=\u001b[0m\u001b[1;34m\"raise\"\u001b[0m\u001b[1;33m,\u001b[0m \u001b[0mvalues\u001b[0m\u001b[1;33m=\u001b[0m\u001b[1;32mNone\u001b[0m\u001b[1;33m,\u001b[0m \u001b[1;33m**\u001b[0m\u001b[0mkwargs\u001b[0m\u001b[1;33m)\u001b[0m\u001b[1;33m:\u001b[0m\u001b[1;33m\u001b[0m\u001b[1;33m\u001b[0m\u001b[0m\n\u001b[1;32m--> 559\u001b[1;33m         \u001b[1;32mreturn\u001b[0m \u001b[0mself\u001b[0m\u001b[1;33m.\u001b[0m\u001b[0m_astype\u001b[0m\u001b[1;33m(\u001b[0m\u001b[0mdtype\u001b[0m\u001b[1;33m,\u001b[0m \u001b[0mcopy\u001b[0m\u001b[1;33m=\u001b[0m\u001b[0mcopy\u001b[0m\u001b[1;33m,\u001b[0m \u001b[0merrors\u001b[0m\u001b[1;33m=\u001b[0m\u001b[0merrors\u001b[0m\u001b[1;33m,\u001b[0m \u001b[0mvalues\u001b[0m\u001b[1;33m=\u001b[0m\u001b[0mvalues\u001b[0m\u001b[1;33m,\u001b[0m \u001b[1;33m**\u001b[0m\u001b[0mkwargs\u001b[0m\u001b[1;33m)\u001b[0m\u001b[1;33m\u001b[0m\u001b[1;33m\u001b[0m\u001b[0m\n\u001b[0m\u001b[0;32m    560\u001b[0m \u001b[1;33m\u001b[0m\u001b[0m\n\u001b[0;32m    561\u001b[0m     \u001b[1;32mdef\u001b[0m \u001b[0m_astype\u001b[0m\u001b[1;33m(\u001b[0m\u001b[0mself\u001b[0m\u001b[1;33m,\u001b[0m \u001b[0mdtype\u001b[0m\u001b[1;33m,\u001b[0m \u001b[0mcopy\u001b[0m\u001b[1;33m=\u001b[0m\u001b[1;32mFalse\u001b[0m\u001b[1;33m,\u001b[0m \u001b[0merrors\u001b[0m\u001b[1;33m=\u001b[0m\u001b[1;34m\"raise\"\u001b[0m\u001b[1;33m,\u001b[0m \u001b[0mvalues\u001b[0m\u001b[1;33m=\u001b[0m\u001b[1;32mNone\u001b[0m\u001b[1;33m,\u001b[0m \u001b[1;33m**\u001b[0m\u001b[0mkwargs\u001b[0m\u001b[1;33m)\u001b[0m\u001b[1;33m:\u001b[0m\u001b[1;33m\u001b[0m\u001b[1;33m\u001b[0m\u001b[0m\n",
      "\u001b[1;32m~\\Anaconda3\\lib\\site-packages\\pandas\\core\\internals\\blocks.py\u001b[0m in \u001b[0;36m_astype\u001b[1;34m(self, dtype, copy, errors, values, **kwargs)\u001b[0m\n\u001b[0;32m    641\u001b[0m                     \u001b[1;31m# _astype_nansafe works fine with 1-d only\u001b[0m\u001b[1;33m\u001b[0m\u001b[1;33m\u001b[0m\u001b[1;33m\u001b[0m\u001b[0m\n\u001b[0;32m    642\u001b[0m                     \u001b[0mvals1d\u001b[0m \u001b[1;33m=\u001b[0m \u001b[0mvalues\u001b[0m\u001b[1;33m.\u001b[0m\u001b[0mravel\u001b[0m\u001b[1;33m(\u001b[0m\u001b[1;33m)\u001b[0m\u001b[1;33m\u001b[0m\u001b[1;33m\u001b[0m\u001b[0m\n\u001b[1;32m--> 643\u001b[1;33m                     \u001b[0mvalues\u001b[0m \u001b[1;33m=\u001b[0m \u001b[0mastype_nansafe\u001b[0m\u001b[1;33m(\u001b[0m\u001b[0mvals1d\u001b[0m\u001b[1;33m,\u001b[0m \u001b[0mdtype\u001b[0m\u001b[1;33m,\u001b[0m \u001b[0mcopy\u001b[0m\u001b[1;33m=\u001b[0m\u001b[1;32mTrue\u001b[0m\u001b[1;33m,\u001b[0m \u001b[1;33m**\u001b[0m\u001b[0mkwargs\u001b[0m\u001b[1;33m)\u001b[0m\u001b[1;33m\u001b[0m\u001b[1;33m\u001b[0m\u001b[0m\n\u001b[0m\u001b[0;32m    644\u001b[0m \u001b[1;33m\u001b[0m\u001b[0m\n\u001b[0;32m    645\u001b[0m                 \u001b[1;31m# TODO(extension)\u001b[0m\u001b[1;33m\u001b[0m\u001b[1;33m\u001b[0m\u001b[1;33m\u001b[0m\u001b[0m\n",
      "\u001b[1;32m~\\Anaconda3\\lib\\site-packages\\pandas\\core\\dtypes\\cast.py\u001b[0m in \u001b[0;36mastype_nansafe\u001b[1;34m(arr, dtype, copy, skipna)\u001b[0m\n\u001b[0;32m    727\u001b[0m     \u001b[1;32mif\u001b[0m \u001b[0mcopy\u001b[0m \u001b[1;32mor\u001b[0m \u001b[0mis_object_dtype\u001b[0m\u001b[1;33m(\u001b[0m\u001b[0marr\u001b[0m\u001b[1;33m)\u001b[0m \u001b[1;32mor\u001b[0m \u001b[0mis_object_dtype\u001b[0m\u001b[1;33m(\u001b[0m\u001b[0mdtype\u001b[0m\u001b[1;33m)\u001b[0m\u001b[1;33m:\u001b[0m\u001b[1;33m\u001b[0m\u001b[1;33m\u001b[0m\u001b[0m\n\u001b[0;32m    728\u001b[0m         \u001b[1;31m# Explicit copy, or required since NumPy can't view from / to object.\u001b[0m\u001b[1;33m\u001b[0m\u001b[1;33m\u001b[0m\u001b[1;33m\u001b[0m\u001b[0m\n\u001b[1;32m--> 729\u001b[1;33m         \u001b[1;32mreturn\u001b[0m \u001b[0marr\u001b[0m\u001b[1;33m.\u001b[0m\u001b[0mastype\u001b[0m\u001b[1;33m(\u001b[0m\u001b[0mdtype\u001b[0m\u001b[1;33m,\u001b[0m \u001b[0mcopy\u001b[0m\u001b[1;33m=\u001b[0m\u001b[1;32mTrue\u001b[0m\u001b[1;33m)\u001b[0m\u001b[1;33m\u001b[0m\u001b[1;33m\u001b[0m\u001b[0m\n\u001b[0m\u001b[0;32m    730\u001b[0m \u001b[1;33m\u001b[0m\u001b[0m\n\u001b[0;32m    731\u001b[0m     \u001b[1;32mreturn\u001b[0m \u001b[0marr\u001b[0m\u001b[1;33m.\u001b[0m\u001b[0mview\u001b[0m\u001b[1;33m(\u001b[0m\u001b[0mdtype\u001b[0m\u001b[1;33m)\u001b[0m\u001b[1;33m\u001b[0m\u001b[1;33m\u001b[0m\u001b[0m\n",
      "\u001b[1;31mValueError\u001b[0m: could not convert string to float: 'Ip'"
     ]
    }
   ],
   "source": [
    "df.PRECIPITACION = df.PRECIPITACION.astype('float64')"
   ]
  },
  {
   "cell_type": "code",
   "execution_count": 61,
   "metadata": {},
   "outputs": [
    {
     "data": {
      "text/plain": [
       "3"
      ]
     },
     "execution_count": 61,
     "metadata": {},
     "output_type": "execute_result"
    }
   ],
   "source": [
    "df['PRECIPITACION'].str.contains('Ip').sum()"
   ]
  },
  {
   "cell_type": "code",
   "execution_count": 66,
   "metadata": {},
   "outputs": [],
   "source": [
    "df.PRECIPITACION = df.PRECIPITACION.astype('str')"
   ]
  },
  {
   "cell_type": "code",
   "execution_count": 67,
   "metadata": {},
   "outputs": [
    {
     "data": {
      "text/html": [
       "<div>\n",
       "<style scoped>\n",
       "    .dataframe tbody tr th:only-of-type {\n",
       "        vertical-align: middle;\n",
       "    }\n",
       "\n",
       "    .dataframe tbody tr th {\n",
       "        vertical-align: top;\n",
       "    }\n",
       "\n",
       "    .dataframe thead th {\n",
       "        text-align: right;\n",
       "    }\n",
       "</style>\n",
       "<table border=\"1\" class=\"dataframe\">\n",
       "  <thead>\n",
       "    <tr style=\"text-align: right;\">\n",
       "      <th></th>\n",
       "      <th>FECHA</th>\n",
       "      <th>INDICATIVO</th>\n",
       "      <th>NOMBRE</th>\n",
       "      <th>PROVINCIA</th>\n",
       "      <th>ALTITUD</th>\n",
       "      <th>TMEDIA</th>\n",
       "      <th>PRECIPITACION</th>\n",
       "      <th>TMIN</th>\n",
       "      <th>HORATMIN</th>\n",
       "      <th>TMAX</th>\n",
       "      <th>HORATMAX</th>\n",
       "      <th>DIR</th>\n",
       "      <th>VELMEDIA</th>\n",
       "      <th>RACHA</th>\n",
       "      <th>HORARACHA</th>\n",
       "      <th>SOL</th>\n",
       "      <th>PRESMAX</th>\n",
       "      <th>HORAPRESMAX</th>\n",
       "      <th>PRESMIN</th>\n",
       "      <th>HORAPRESMIN</th>\n",
       "    </tr>\n",
       "  </thead>\n",
       "  <tbody>\n",
       "    <tr>\n",
       "      <td>3252</td>\n",
       "      <td>2004-07-06</td>\n",
       "      <td>0201D</td>\n",
       "      <td>BARCELONA</td>\n",
       "      <td>BARCELONA</td>\n",
       "      <td>6</td>\n",
       "      <td>22.5</td>\n",
       "      <td>Ip</td>\n",
       "      <td>20.7</td>\n",
       "      <td>05:10</td>\n",
       "      <td>24.3</td>\n",
       "      <td>12:40</td>\n",
       "      <td>8.0</td>\n",
       "      <td>3.1</td>\n",
       "      <td>13.9</td>\n",
       "      <td>02:20</td>\n",
       "      <td>NaN</td>\n",
       "      <td>NaN</td>\n",
       "      <td>NaN</td>\n",
       "      <td>NaN</td>\n",
       "      <td>NaN</td>\n",
       "    </tr>\n",
       "    <tr>\n",
       "      <td>3454</td>\n",
       "      <td>2005-01-24</td>\n",
       "      <td>0201D</td>\n",
       "      <td>BARCELONA</td>\n",
       "      <td>BARCELONA</td>\n",
       "      <td>6</td>\n",
       "      <td>NaN</td>\n",
       "      <td>Ip</td>\n",
       "      <td>NaN</td>\n",
       "      <td>NaN</td>\n",
       "      <td>NaN</td>\n",
       "      <td>NaN</td>\n",
       "      <td>NaN</td>\n",
       "      <td>NaN</td>\n",
       "      <td>NaN</td>\n",
       "      <td>NaN</td>\n",
       "      <td>NaN</td>\n",
       "      <td>NaN</td>\n",
       "      <td>NaN</td>\n",
       "      <td>NaN</td>\n",
       "      <td>NaN</td>\n",
       "    </tr>\n",
       "    <tr>\n",
       "      <td>3674</td>\n",
       "      <td>2005-09-01</td>\n",
       "      <td>0201D</td>\n",
       "      <td>BARCELONA</td>\n",
       "      <td>BARCELONA</td>\n",
       "      <td>6</td>\n",
       "      <td>25.0</td>\n",
       "      <td>Ip</td>\n",
       "      <td>23.1</td>\n",
       "      <td>05:20</td>\n",
       "      <td>26.8</td>\n",
       "      <td>12:40</td>\n",
       "      <td>19.0</td>\n",
       "      <td>2.8</td>\n",
       "      <td>6.4</td>\n",
       "      <td>14:40</td>\n",
       "      <td>NaN</td>\n",
       "      <td>NaN</td>\n",
       "      <td>NaN</td>\n",
       "      <td>NaN</td>\n",
       "      <td>NaN</td>\n",
       "    </tr>\n",
       "  </tbody>\n",
       "</table>\n",
       "</div>"
      ],
      "text/plain": [
       "          FECHA INDICATIVO     NOMBRE  PROVINCIA  ALTITUD  TMEDIA  \\\n",
       "3252 2004-07-06      0201D  BARCELONA  BARCELONA        6    22.5   \n",
       "3454 2005-01-24      0201D  BARCELONA  BARCELONA        6     NaN   \n",
       "3674 2005-09-01      0201D  BARCELONA  BARCELONA        6    25.0   \n",
       "\n",
       "     PRECIPITACION  TMIN HORATMIN  TMAX HORATMAX   DIR  VELMEDIA  RACHA  \\\n",
       "3252            Ip  20.7    05:10  24.3    12:40   8.0       3.1   13.9   \n",
       "3454            Ip   NaN      NaN   NaN      NaN   NaN       NaN    NaN   \n",
       "3674            Ip  23.1    05:20  26.8    12:40  19.0       2.8    6.4   \n",
       "\n",
       "     HORARACHA  SOL  PRESMAX HORAPRESMAX  PRESMIN HORAPRESMIN  \n",
       "3252     02:20  NaN      NaN         NaN      NaN         NaN  \n",
       "3454       NaN  NaN      NaN         NaN      NaN         NaN  \n",
       "3674     14:40  NaN      NaN         NaN      NaN         NaN  "
      ]
     },
     "execution_count": 67,
     "metadata": {},
     "output_type": "execute_result"
    }
   ],
   "source": [
    "df[df['PRECIPITACION'].str.contains('Ip')]"
   ]
  },
  {
   "cell_type": "markdown",
   "metadata": {},
   "source": [
    "##### Luego de buscar por internet, se llega a la conclusión que el valor \"ip\" está asociado a la terminología \"imperceptible\", o lo que es lo mismo, una lluvia muy pequeña"
   ]
  },
  {
   "cell_type": "markdown",
   "metadata": {},
   "source": [
    "###### Siendo que como se observó previamente el valor más pequeño registrado es de 0,1, se procede a utilizar mismo valor"
   ]
  },
  {
   "cell_type": "code",
   "execution_count": 85,
   "metadata": {},
   "outputs": [],
   "source": [
    "df['PRECIPITACION'] = df['PRECIPITACION'].replace(['Ip'],'0.1')"
   ]
  },
  {
   "cell_type": "markdown",
   "metadata": {},
   "source": [
    "##### Procedemos nuevamente a convertir la variable en \"Float\""
   ]
  },
  {
   "cell_type": "code",
   "execution_count": 86,
   "metadata": {},
   "outputs": [],
   "source": [
    "df.PRECIPITACION = df.PRECIPITACION.astype('float64')"
   ]
  },
  {
   "cell_type": "markdown",
   "metadata": {},
   "source": [
    "##### Conversión de FECHA a DATETIME "
   ]
  },
  {
   "cell_type": "code",
   "execution_count": 88,
   "metadata": {},
   "outputs": [],
   "source": [
    "df.FECHA = df.FECHA.astype('datetime64')"
   ]
  },
  {
   "cell_type": "markdown",
   "metadata": {},
   "source": [
    "### Creación de variable \"Año\""
   ]
  },
  {
   "cell_type": "code",
   "execution_count": 122,
   "metadata": {},
   "outputs": [],
   "source": [
    "df['AÑO'] = df.FECHA.dt.year"
   ]
  },
  {
   "cell_type": "markdown",
   "metadata": {},
   "source": [
    "### Creación de Variable \"Mes\""
   ]
  },
  {
   "cell_type": "code",
   "execution_count": 90,
   "metadata": {},
   "outputs": [],
   "source": [
    "df['MES'] = df.FECHA.dt.month"
   ]
  },
  {
   "cell_type": "markdown",
   "metadata": {},
   "source": [
    "### Creación de Variable \"Día del mes\""
   ]
  },
  {
   "cell_type": "code",
   "execution_count": 93,
   "metadata": {},
   "outputs": [],
   "source": [
    "df['DIA_MES'] = df.FECHA.dt.day"
   ]
  },
  {
   "cell_type": "markdown",
   "metadata": {},
   "source": [
    "### Creación de Variable \"Día del año\""
   ]
  },
  {
   "cell_type": "code",
   "execution_count": 156,
   "metadata": {},
   "outputs": [],
   "source": [
    "df['DIA_AÑO'] = df.FECHA.dt.dayofyear"
   ]
  },
  {
   "cell_type": "markdown",
   "metadata": {},
   "source": [
    "### Creación de variable \"Estación\""
   ]
  },
  {
   "cell_type": "markdown",
   "metadata": {},
   "source": [
    "La determinación de cada estación está sujeta a la siguiente estructura de fechas: \n",
    "    Primavera: 20-03 a 20-06\n",
    "    Verano: 21-06 a 21-09\n",
    "    Otoño: 22-09 a 21-12\n",
    "    Invierno: 22-12 a 19-03\n",
    "    "
   ]
  },
  {
   "cell_type": "markdown",
   "metadata": {},
   "source": [
    "primavera = (df['MES']>2)&(df['DIA_MES']>19)&(df['MES']<7)&(df['DIA_MES']<20)\n",
    "verano = (df['MES']>5)&(df['DIA_MES']>20)&(df['MES']<10)&(df['DIA_MES']<21)\n",
    "otoño = (df['MES']>8)&(df['DIA_MES']>21)&(df['MES']<=12)&(df['DIA_MES']<21)\n",
    "invierno_a = ((df['MES']==12)&(df['DIA_MES']>20))\n",
    "invierno_b = (df['MES']>0)&(df['DIA_MES']>0)&(df['MES']<4)&(df['DIA_MES']<21)\n",
    "invierno = (invierno_a|invierno_b)\n",
    "\n",
    "condition = [primavera, verano, otoño, invierno]\n",
    "#condition = [(df['MONTH']>2)&(df['DIA_MES']>19)&(df['MONTH']<7)&(df['DIA_MES']<20), (df['MONTH']>5)&(df['DIA_MES']>20)&(df['MONTH']<10)&(df['DIA_MES']<21), (df['MONTH']>8)&(df['DIA_MES']>21)&(df['MONTH']<7)&(df['DIA_MES']<20), (((df['MONTH']>11)&(df['DIA_MES']>22)&(df['MONTH']<7)&(df['DIA_MES']<20)|(df['MONTH']>8)&(df['DIA_MES']>21)&(df['MONTH']<7)&(df['DIA_MES']<20)))] \n",
    "values = ['PRIMAVERA', 'VERANO', 'OTOÑO', 'INVIERNO']"
   ]
  },
  {
   "cell_type": "markdown",
   "metadata": {},
   "source": [
    "df['ESTACION_AÑO'] = np.select(condition, values)"
   ]
  },
  {
   "cell_type": "code",
   "execution_count": 136,
   "metadata": {},
   "outputs": [
    {
     "data": {
      "text/plain": [
       "0           7528\n",
       "INVIERNO    1746\n",
       "Name: ESTACION_AÑO, dtype: int64"
      ]
     },
     "execution_count": 136,
     "metadata": {},
     "output_type": "execute_result"
    }
   ],
   "source": [
    "df.ESTACION_AÑO.value_counts()"
   ]
  },
  {
   "cell_type": "markdown",
   "metadata": {},
   "source": [
    "def season_of_date(date):\n",
    "    year = df.AÑO.astype('str')\n",
    "    seasons = {'PRIMAVERA': pd.date_range(start=year+'/03/21', end=year+'/06/20'),\n",
    "               'VERANO': pd.date_range(start=year+'/06/21', end=year+'/09/22'),\n",
    "               'OTOÑO': pd.date_range(start=year+'/09/23', end=year+'/12/20')}\n",
    "    if date in seasons['PRIMAVERA']:\n",
    "        return 'PRIMAVERA'\n",
    "    if date in seasons['VERANO']:\n",
    "        return 'VERANO'\n",
    "    if date in seasons['OTOÑO']:\n",
    "        return 'OTOÑO'\n",
    "    else:\n",
    "        return 'INVIERNO'\n",
    "\n",
    " Assuming df has a date column of type `datetime`\n",
    "df['ESTACION_AÑO'] = df['ESTACION_AÑO'].map(season_of_date)"
   ]
  },
  {
   "cell_type": "markdown",
   "metadata": {},
   "source": [
    "##### Chequeamos que efectivamente sean 31 días los valores posibles"
   ]
  },
  {
   "cell_type": "markdown",
   "metadata": {},
   "source": [
    "### Es necesario incluir también \"Semana\" del año?"
   ]
  },
  {
   "cell_type": "markdown",
   "metadata": {},
   "source": [
    "---"
   ]
  },
  {
   "cell_type": "markdown",
   "metadata": {},
   "source": [
    "# ANALISIS EXPLORATORIO"
   ]
  },
  {
   "cell_type": "markdown",
   "metadata": {},
   "source": [
    "### Rango de días cubiertos por Dataset"
   ]
  },
  {
   "cell_type": "code",
   "execution_count": 99,
   "metadata": {},
   "outputs": [
    {
     "name": "stdout",
     "output_type": "stream",
     "text": [
      "fecha inicial:  1994-04-20 00:00:00 , fecha final:  2021-07-04 00:00:00\n"
     ]
    }
   ],
   "source": [
    "print('fecha inicial: ', df.FECHA.min(), ', fecha final: ', df.FECHA.max())"
   ]
  },
  {
   "cell_type": "markdown",
   "metadata": {},
   "source": [
    "### Cantidad de días observados"
   ]
  },
  {
   "cell_type": "code",
   "execution_count": 104,
   "metadata": {},
   "outputs": [
    {
     "name": "stdout",
     "output_type": "stream",
     "text": [
      "Cantidad de días registrados:  9274\n"
     ]
    }
   ],
   "source": [
    "print('Cantidad de días registrados: ', len(df))"
   ]
  },
  {
   "cell_type": "markdown",
   "metadata": {},
   "source": [
    "### Cantidad de observaciones para cada Mes"
   ]
  },
  {
   "cell_type": "code",
   "execution_count": 102,
   "metadata": {},
   "outputs": [
    {
     "data": {
      "text/plain": [
       "5     861\n",
       "7     800\n",
       "10    800\n",
       "6     793\n",
       "12    786\n",
       "1     781\n",
       "8     773\n",
       "11    761\n",
       "4     748\n",
       "3     737\n",
       "9     730\n",
       "2     704\n",
       "Name: MES, dtype: int64"
      ]
     },
     "execution_count": 102,
     "metadata": {},
     "output_type": "execute_result"
    }
   ],
   "source": [
    "df.MES.value_counts()"
   ]
  },
  {
   "cell_type": "markdown",
   "metadata": {},
   "source": [
    "##### NOTA: Es extraño que algunos meses tengan muchas menos observaciones? Aquellos de 31 días en principio deberían coincidir. Analizar por qué no sucede!"
   ]
  },
  {
   "cell_type": "markdown",
   "metadata": {},
   "source": [
    "##### Muy posiblemente se deba a que la finalización del período se corresponda con la mitad de año. Para que coincida se debería restar ese medio año en cuestión"
   ]
  },
  {
   "cell_type": "markdown",
   "metadata": {},
   "source": [
    "### Cantidad de observaciones por cada día del mes"
   ]
  },
  {
   "cell_type": "code",
   "execution_count": 103,
   "metadata": {},
   "outputs": [
    {
     "data": {
      "text/plain": [
       "31"
      ]
     },
     "execution_count": 103,
     "metadata": {},
     "output_type": "execute_result"
    }
   ],
   "source": [
    "len(df.DIA_MES.value_counts())"
   ]
  },
  {
   "cell_type": "code",
   "execution_count": 105,
   "metadata": {},
   "outputs": [
    {
     "data": {
      "text/plain": [
       "27    308\n",
       "25    308\n",
       "20    308\n",
       "19    307\n",
       "26    307\n",
       "2     306\n",
       "18    306\n",
       "3     306\n",
       "5     306\n",
       "28    306\n",
       "8     306\n",
       "21    305\n",
       "12    305\n",
       "17    304\n",
       "1     304\n",
       "24    304\n",
       "11    304\n",
       "4     304\n",
       "13    304\n",
       "14    304\n",
       "10    303\n",
       "9     303\n",
       "7     303\n",
       "15    303\n",
       "16    303\n",
       "6     302\n",
       "23    301\n",
       "22    301\n",
       "29    286\n",
       "30    280\n",
       "31    177\n",
       "Name: DIA_MES, dtype: int64"
      ]
     },
     "execution_count": 105,
     "metadata": {},
     "output_type": "execute_result"
    }
   ],
   "source": [
    "df.DIA_MES.value_counts()"
   ]
  },
  {
   "cell_type": "code",
   "execution_count": null,
   "metadata": {},
   "outputs": [],
   "source": []
  },
  {
   "cell_type": "code",
   "execution_count": null,
   "metadata": {},
   "outputs": [],
   "source": []
  },
  {
   "cell_type": "code",
   "execution_count": null,
   "metadata": {},
   "outputs": [],
   "source": []
  },
  {
   "cell_type": "code",
   "execution_count": null,
   "metadata": {},
   "outputs": [],
   "source": []
  },
  {
   "cell_type": "code",
   "execution_count": null,
   "metadata": {},
   "outputs": [],
   "source": []
  },
  {
   "cell_type": "code",
   "execution_count": null,
   "metadata": {},
   "outputs": [],
   "source": []
  },
  {
   "cell_type": "markdown",
   "metadata": {},
   "source": [
    "### Registro de Precipitaciones por día"
   ]
  },
  {
   "cell_type": "code",
   "execution_count": 149,
   "metadata": {},
   "outputs": [
    {
     "data": {
      "text/plain": [
       "Text(0, 0.5, 'Cantidad de precipitaciones')"
      ]
     },
     "execution_count": 149,
     "metadata": {},
     "output_type": "execute_result"
    },
    {
     "data": {
      "image/png": "[encoded data removed]",
      "text/plain": [
       "<Figure size 1152x432 with 1 Axes>"
      ]
     },
     "metadata": {},
     "output_type": "display_data"
    }
   ],
   "source": [
    "df.groupby('FECHA').mean()['PRECIPITACION'].plot(title='Evolucion de precipitaciones medias por día', grid=True, figsize=(16,6))\n",
    "plt.ylabel('Cantidad de precipitaciones')"
   ]
  },
  {
   "cell_type": "markdown",
   "metadata": {},
   "source": [
    "### Evolución de la temperatura en el tiempo "
   ]
  },
  {
   "cell_type": "code",
   "execution_count": 154,
   "metadata": {},
   "outputs": [
    {
     "data": {
      "text/plain": [
       "Text(0, 0.5, 'Grados centigrados °C')"
      ]
     },
     "execution_count": 154,
     "metadata": {},
     "output_type": "execute_result"
    },
    {
     "data": {
      "image/png": "[encoded data removed]",
      "text/plain": [
       "<Figure size 1152x432 with 1 Axes>"
      ]
     },
     "metadata": {},
     "output_type": "display_data"
    }
   ],
   "source": [
    "g = df[~df['TMEDIA'].isna()].groupby('FECHA').mean()['TMEDIA'].plot(color='red', grid=True, figsize=(16,6), title='Evolución de la temperatura')\n",
    "g.set_ylabel('Grados centigrados °C')\n"
   ]
  },
  {
   "cell_type": "markdown",
   "metadata": {},
   "source": [
    "### Evolución temperatura media por día del año (promedio 1994 a 2021)"
   ]
  },
  {
   "cell_type": "code",
   "execution_count": 157,
   "metadata": {},
   "outputs": [
    {
     "data": {
      "text/plain": [
       "Text(0, 0.5, 'Grados centigrados °C')"
      ]
     },
     "execution_count": 157,
     "metadata": {},
     "output_type": "execute_result"
    },
    {
     "data": {
      "image/png": "[encoded data removed]",
      "text/plain": [
       "<Figure size 1152x432 with 1 Axes>"
      ]
     },
     "metadata": {},
     "output_type": "display_data"
    }
   ],
   "source": [
    "g = df[~df['TMEDIA'].isna()].groupby('DIA_AÑO').mean()['TMEDIA'].plot(color='red', grid=True, figsize=(16,6), title='Evolución de la temperatura')\n",
    "g.set_ylabel('Grados centigrados °C')"
   ]
  },
  {
   "cell_type": "markdown",
   "metadata": {},
   "source": [
    "### Evolución media movil 30 días temperatura"
   ]
  },
  {
   "cell_type": "code",
   "execution_count": 160,
   "metadata": {},
   "outputs": [],
   "source": [
    "temperatura_df_mean = df.TMEDIA.rolling(window=3).mean()"
   ]
  },
  {
   "cell_type": "code",
   "execution_count": 162,
   "metadata": {},
   "outputs": [
    {
     "data": {
      "text/plain": [
       "<matplotlib.axes._subplots.AxesSubplot at 0x27a89542e08>"
      ]
     },
     "execution_count": 162,
     "metadata": {},
     "output_type": "execute_result"
    },
    {
     "data": {
      "image/png": "[encoded data removed]",
      "text/plain": [
       "<Figure size 1152x432 with 1 Axes>"
      ]
     },
     "metadata": {},
     "output_type": "display_data"
    }
   ],
   "source": [
    "temperatura_df_mean.plot(color='red', grid=True, figsize=(16,6))"
   ]
  },
  {
   "cell_type": "code",
   "execution_count": null,
   "metadata": {},
   "outputs": [],
   "source": []
  }
 ],
 "metadata": {
  "kernelspec": {
   "display_name": "Python 3",
   "language": "python",
   "name": "python3"
  },
  "language_info": {
   "codemirror_mode": {
    "name": "ipython",
    "version": 3
   },
   "file_extension": ".py",
   "mimetype": "text/x-python",
   "name": "python",
   "nbconvert_exporter": "python",
   "pygments_lexer": "ipython3",
   "version": "3.7.4"
  }
 },
 "nbformat": 4,
 "nbformat_minor": 2
}
